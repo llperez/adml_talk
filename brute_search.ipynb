{
 "cells": [
  {
   "cell_type": "code",
   "execution_count": 1,
   "metadata": {},
   "outputs": [],
   "source": [
    "from sentence_transformers import SentenceTransformer\n",
    "from scipy.spatial.distance import cdist\n",
    "import random\n",
    "import string\n",
    "import time\n",
    "import numpy as np\n",
    "\n",
    "ENCODER = SentenceTransformer('all-mpnet-base-v2')"
   ]
  },
  {
   "cell_type": "code",
   "execution_count": 2,
   "metadata": {},
   "outputs": [
    {
     "data": {
      "application/vnd.jupyter.widget-view+json": {
       "model_id": "636888b7b19a4c33a87916af37c3c5e7",
       "version_major": 2,
       "version_minor": 0
      },
      "text/plain": [
       "Batches:   0%|          | 0/4 [00:00<?, ?it/s]"
      ]
     },
     "metadata": {},
     "output_type": "display_data"
    }
   ],
   "source": [
    "def generate_bunch(N):\n",
    "    return [' '.join([''.join(random.choices(string.ascii_lowercase, k=random.randint(1, 10))) for _ in range(random.randint(1, 100))]) for _ in range(N)]\n",
    "\n",
    "bunch = generate_bunch(100)\n",
    "encoded_bunch = ENCODER.encode(bunch, show_progress_bar=True)\n",
    "SIZES_TO_TRY = [100, 1000, 10000, 100000, 1000000]"
   ]
  },
  {
   "cell_type": "code",
   "execution_count": 3,
   "metadata": {},
   "outputs": [
    {
     "name": "stdout",
     "output_type": "stream",
     "text": [
      "Brute search 100: 0.005582094192504883 seconds\n",
      "Brute search 1000: 0.01878190040588379 seconds\n",
      "Brute search 10000: 0.12822294235229492 seconds\n",
      "Brute search 100000: 1.021690845489502 seconds\n",
      "Brute search 1000000: 74.86317801475525 seconds\n"
     ]
    }
   ],
   "source": [
    "for size in SIZES_TO_TRY:\n",
    "    query = encoded_bunch[0]\n",
    "    if size <= len(bunch):\n",
    "        encoding = encoded_bunch[:size]\n",
    "    else:\n",
    "        encoding = np.repeat(encoded_bunch, size / len(bunch), axis=0)\n",
    "    \n",
    "    start = time.time()\n",
    "    distances = list(enumerate(cdist([query], encoding, metric='cosine')[0]))\n",
    "    distances = sorted(distances, key=lambda x: x[1])[:3]\n",
    "    end = time.time()\n",
    "    print(f'Brute search {size}: {end - start} seconds')"
   ]
  }
 ],
 "metadata": {
  "kernelspec": {
   "display_name": "base",
   "language": "python",
   "name": "python3"
  },
  "language_info": {
   "codemirror_mode": {
    "name": "ipython",
    "version": 3
   },
   "file_extension": ".py",
   "mimetype": "text/x-python",
   "name": "python",
   "nbconvert_exporter": "python",
   "pygments_lexer": "ipython3",
   "version": "3.9.0"
  },
  "orig_nbformat": 4
 },
 "nbformat": 4,
 "nbformat_minor": 2
}

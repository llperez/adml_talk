{
 "cells": [
  {
   "cell_type": "code",
   "execution_count": 1,
   "metadata": {},
   "outputs": [],
   "source": [
    "import tiktoken\n",
    "from IPython.display import Markdown\n",
    "MY_TOKENIZER = tiktoken.get_encoding(\"cl100k_base\")"
   ]
  },
  {
   "cell_type": "code",
   "execution_count": 2,
   "metadata": {},
   "outputs": [],
   "source": [
    "def tokenization(text, tokenizer=MY_TOKENIZER):\n",
    "    encoded = tokenizer.encode(text)\n",
    "    decoded = [tokenizer.decode([T]) for T in encoded]\n",
    "    return decoded"
   ]
  },
  {
   "cell_type": "code",
   "execution_count": 4,
   "metadata": {},
   "outputs": [],
   "source": [
    "def display_tokenization(text):\n",
    "    tokens = tokenization(text)\n",
    "    display(Markdown(' '.join([f'<span style=\"border: 1px solid orange; padding: 2px; margin: 2px;\">{token.replace(\"<\", \"&lt;\").replace(\">\", \"&gt;\")}</span>' if token != '\\n' else '<br><br>' for token in tokens]) + f'<br><br><b>Number of tokens:</b> {len(tokens)}'))"
   ]
  },
  {
   "cell_type": "code",
   "execution_count": 5,
   "metadata": {},
   "outputs": [
    {
     "data": {
      "text/markdown": [
       "<span style=\"border: 1px solid orange; padding: 2px; margin: 2px;\">The</span> <span style=\"border: 1px solid orange; padding: 2px; margin: 2px;\"> quick</span> <span style=\"border: 1px solid orange; padding: 2px; margin: 2px;\"> brown</span> <span style=\"border: 1px solid orange; padding: 2px; margin: 2px;\"> fox</span> <span style=\"border: 1px solid orange; padding: 2px; margin: 2px;\"> jumps</span> <span style=\"border: 1px solid orange; padding: 2px; margin: 2px;\"> over</span> <span style=\"border: 1px solid orange; padding: 2px; margin: 2px;\"> the</span> <span style=\"border: 1px solid orange; padding: 2px; margin: 2px;\"> lazy</span> <span style=\"border: 1px solid orange; padding: 2px; margin: 2px;\"> dog</span><br><br><b>Number of tokens:</b> 9"
      ],
      "text/plain": [
       "<IPython.core.display.Markdown object>"
      ]
     },
     "metadata": {},
     "output_type": "display_data"
    },
    {
     "data": {
      "text/markdown": [
       "<span style=\"border: 1px solid orange; padding: 2px; margin: 2px;\">Hola</span> <span style=\"border: 1px solid orange; padding: 2px; margin: 2px;\">,</span> <span style=\"border: 1px solid orange; padding: 2px; margin: 2px;\"> ¿</span> <span style=\"border: 1px solid orange; padding: 2px; margin: 2px;\">c</span> <span style=\"border: 1px solid orange; padding: 2px; margin: 2px;\">ómo</span> <span style=\"border: 1px solid orange; padding: 2px; margin: 2px;\"> est</span> <span style=\"border: 1px solid orange; padding: 2px; margin: 2px;\">ás</span> <span style=\"border: 1px solid orange; padding: 2px; margin: 2px;\">?</span><br><br><b>Number of tokens:</b> 8"
      ],
      "text/plain": [
       "<IPython.core.display.Markdown object>"
      ]
     },
     "metadata": {},
     "output_type": "display_data"
    }
   ],
   "source": [
    "display_tokenization(\"The quick brown fox jumps over the lazy dog\")\n",
    "display_tokenization(\"Hola, ¿cómo estás?\")"
   ]
  },
  {
   "cell_type": "code",
   "execution_count": 6,
   "metadata": {},
   "outputs": [],
   "source": [
    "# Full conversation length calculation.\n",
    "# Based on https://github.com/openai/openai-cookbook/blob/main/examples/How_to_count_tokens_with_tiktoken.ipynb\n",
    "def chat_length(text, tokenizer=MY_TOKENIZER):\n",
    "    if isinstance(text, str):\n",
    "        text = [{\"role\": \"user\", \"content\": text}]\n",
    "\n",
    "    num_tokens = 0\n",
    "    for msg in text:\n",
    "        num_tokens += 3\n",
    "        for k, v in msg.items():\n",
    "            num_tokens += len(tokenizer.encode(v)) + (1 if k == 'name' else 0)\n",
    "\n",
    "    return num_tokens + 3"
   ]
  },
  {
   "cell_type": "code",
   "execution_count": 7,
   "metadata": {},
   "outputs": [
    {
     "data": {
      "text/plain": [
       "'27 tokens'"
      ]
     },
     "metadata": {},
     "output_type": "display_data"
    }
   ],
   "source": [
    "my_conversation = [\n",
    "    {\n",
    "        \"role\": \"system\",\n",
    "        \"content\": \"You are a helpful assistant.\"\n",
    "    },\n",
    "    {\n",
    "        \"role\": \"user\",\n",
    "        \"content\": \"Why should I switch to a plant-based diet?\"\n",
    "    }\n",
    "]\n",
    "\n",
    "display(f\"{chat_length(my_conversation)} tokens\")"
   ]
  }
 ],
 "metadata": {
  "kernelspec": {
   "display_name": "base",
   "language": "python",
   "name": "python3"
  },
  "language_info": {
   "codemirror_mode": {
    "name": "ipython",
    "version": 3
   },
   "file_extension": ".py",
   "mimetype": "text/x-python",
   "name": "python",
   "nbconvert_exporter": "python",
   "pygments_lexer": "ipython3",
   "version": "3.9.0"
  },
  "orig_nbformat": 4
 },
 "nbformat": 4,
 "nbformat_minor": 2
}

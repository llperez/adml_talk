{
 "cells": [
  {
   "cell_type": "code",
   "execution_count": 1,
   "metadata": {},
   "outputs": [
    {
     "name": "stderr",
     "output_type": "stream",
     "text": [
      "/Users/lp6/opt/anaconda3/envs/adml/lib/python3.9/site-packages/umap/distances.py:1063: NumbaDeprecationWarning: The 'nopython' keyword argument was not supplied to the 'numba.jit' decorator. The implicit default value for this argument is currently False, but it will be changed to True in Numba 0.59.0. See https://numba.readthedocs.io/en/stable/reference/deprecation.html#deprecation-of-object-mode-fall-back-behaviour-when-using-jit for details.\n",
      "  @numba.jit()\n",
      "/Users/lp6/opt/anaconda3/envs/adml/lib/python3.9/site-packages/umap/distances.py:1071: NumbaDeprecationWarning: The 'nopython' keyword argument was not supplied to the 'numba.jit' decorator. The implicit default value for this argument is currently False, but it will be changed to True in Numba 0.59.0. See https://numba.readthedocs.io/en/stable/reference/deprecation.html#deprecation-of-object-mode-fall-back-behaviour-when-using-jit for details.\n",
      "  @numba.jit()\n",
      "/Users/lp6/opt/anaconda3/envs/adml/lib/python3.9/site-packages/umap/distances.py:1086: NumbaDeprecationWarning: The 'nopython' keyword argument was not supplied to the 'numba.jit' decorator. The implicit default value for this argument is currently False, but it will be changed to True in Numba 0.59.0. See https://numba.readthedocs.io/en/stable/reference/deprecation.html#deprecation-of-object-mode-fall-back-behaviour-when-using-jit for details.\n",
      "  @numba.jit()\n",
      "/Users/lp6/opt/anaconda3/envs/adml/lib/python3.9/site-packages/umap/umap_.py:660: NumbaDeprecationWarning: The 'nopython' keyword argument was not supplied to the 'numba.jit' decorator. The implicit default value for this argument is currently False, but it will be changed to True in Numba 0.59.0. See https://numba.readthedocs.io/en/stable/reference/deprecation.html#deprecation-of-object-mode-fall-back-behaviour-when-using-jit for details.\n",
      "  @numba.jit()\n"
     ]
    }
   ],
   "source": [
    "from sentence_transformers import SentenceTransformer\n",
    "from scipy.spatial.distance import cosine\n",
    "from umap import UMAP\n",
    "import matplotlib.pyplot as plt\n",
    "ENCODER = SentenceTransformer('all-mpnet-base-v2')"
   ]
  },
  {
   "cell_type": "code",
   "execution_count": 2,
   "metadata": {},
   "outputs": [
    {
     "data": {
      "text/plain": [
       "(768,)"
      ]
     },
     "metadata": {},
     "output_type": "display_data"
    },
    {
     "data": {
      "text/plain": [
       "array([-2.41035875e-02, -2.09894893e-03, -2.44234572e-03, -1.11331595e-02,\n",
       "        1.96240544e-02,  3.31919305e-02, -1.19652543e-02,  2.41530929e-02,\n",
       "       -3.53692286e-02, -3.82525437e-02,  1.74815990e-02,  5.15948497e-02,\n",
       "       -3.72290448e-03,  5.87132648e-02,  3.90945598e-02, -8.38790834e-03,\n",
       "        5.39238341e-02,  4.54315590e-03, -2.05428060e-02, -4.20075953e-02,\n",
       "       -2.42288467e-02,  4.92548523e-03,  4.37885942e-03, -1.91046372e-02,\n",
       "       -2.99328379e-02,  3.00455950e-02,  2.19108239e-02,  7.84096587e-03,\n",
       "       -5.18376753e-03, -5.08811977e-03,  7.61109695e-04,  1.47869829e-02,\n",
       "       -3.33857685e-02,  5.78062236e-02,  1.52562598e-06, -2.54524164e-02,\n",
       "        1.32586993e-02,  3.22216153e-02,  1.13033339e-01,  6.41715992e-03,\n",
       "       -1.98629610e-02, -2.77339034e-02, -7.13447928e-02, -2.79135127e-02,\n",
       "       -3.10262181e-02, -3.90692381e-03, -1.41330922e-04,  4.40871231e-02,\n",
       "       -5.75701632e-02,  4.23529595e-02,  6.70971023e-03, -2.29057632e-02,\n",
       "        1.10517899e-02, -3.97746786e-02,  1.07298650e-01, -9.98977497e-02,\n",
       "       -1.58867706e-02, -4.40309048e-02, -1.73496213e-02, -1.53894839e-03,\n",
       "       -5.34064323e-02,  8.51124339e-03,  2.93806591e-03, -2.29344573e-02,\n",
       "       -5.41070141e-02,  1.16014974e-02, -9.88660287e-03,  4.34305146e-02,\n",
       "       -4.15819436e-02,  1.96127929e-02, -4.82797995e-02,  3.46052013e-02,\n",
       "        2.35015415e-02,  4.01022770e-02,  9.11268231e-04,  1.99002493e-02,\n",
       "       -5.00341365e-03,  3.42927389e-02,  4.36092243e-02, -1.30357721e-03,\n",
       "       -1.37290405e-02,  4.92367707e-02, -1.65687932e-03, -1.76811609e-02,\n",
       "       -3.36099900e-02,  6.48345202e-02,  4.13122252e-02,  2.02449430e-02,\n",
       "        4.82097785e-05,  1.30572207e-02,  1.31245181e-01, -1.74063202e-02,\n",
       "        9.36743151e-03,  6.60955952e-03, -3.07075586e-02, -1.13238674e-02,\n",
       "       -2.15756670e-02, -4.66594249e-02,  2.19380632e-02, -1.95734333e-02,\n",
       "       -9.06511582e-03, -3.52032222e-02, -1.17663573e-02,  2.34622099e-02,\n",
       "       -7.13732764e-02, -3.16585414e-04, -6.99739158e-02,  1.04556046e-02,\n",
       "       -1.70841366e-02,  2.60949880e-02, -2.83825006e-02, -9.37669631e-03,\n",
       "        7.93137308e-03,  4.79555428e-02,  1.68429818e-02, -1.10558560e-02,\n",
       "       -1.12439133e-02, -7.27380114e-03, -2.97014471e-02,  8.45955964e-03,\n",
       "       -3.51553597e-02,  5.15279956e-02,  9.53364559e-03,  5.96939772e-02,\n",
       "       -3.24986465e-02, -1.45087205e-03, -6.84678257e-02,  2.07763780e-02,\n",
       "       -3.61154675e-02, -4.60194331e-03,  8.01286846e-03,  2.68854592e-02,\n",
       "        8.06128886e-03, -6.10542409e-02, -8.51940457e-03,  1.94144007e-02,\n",
       "       -1.62501801e-02, -4.86947224e-03,  3.99330258e-02,  1.66319441e-02,\n",
       "        3.72305140e-02, -5.52042909e-02, -3.70558053e-02, -2.80971564e-02,\n",
       "       -4.03560232e-03, -9.74994898e-03,  4.73077074e-02,  6.13080412e-02,\n",
       "       -6.71238545e-03,  7.41084060e-03, -1.46334302e-02,  1.76506732e-02,\n",
       "       -5.19014001e-02,  3.04874238e-02, -1.98214385e-03, -4.12048586e-02,\n",
       "       -1.44832283e-02,  4.41212207e-02, -2.08094772e-02, -2.71253847e-02,\n",
       "        2.47140713e-02,  1.20796356e-02,  2.09219716e-02, -1.92986578e-02,\n",
       "       -2.86157336e-02, -3.33371907e-02,  1.81804653e-02, -3.70289455e-03,\n",
       "        1.06805833e-02, -6.16409257e-02,  3.78805958e-02, -3.49540189e-02,\n",
       "        1.86078157e-02,  3.50040048e-02,  1.83866955e-02,  4.20531593e-02,\n",
       "       -5.98142333e-02, -4.19517420e-02, -2.55054384e-02, -3.45475943e-04,\n",
       "       -5.29348068e-02,  7.43841156e-02,  1.17654977e-02,  4.94583249e-02,\n",
       "       -4.63755429e-02, -1.12642758e-02, -2.39539444e-02,  7.71238804e-02,\n",
       "       -5.03824092e-02,  1.65979341e-02, -1.14988061e-02,  2.82371696e-03,\n",
       "        3.52026224e-02,  8.73610284e-03,  4.43068072e-02,  2.09153742e-02,\n",
       "       -9.14056785e-03, -1.19309211e-02, -5.09057902e-02,  1.31269814e-02,\n",
       "       -6.47887290e-02,  4.14875038e-02, -1.88821219e-02, -4.08150293e-02,\n",
       "       -7.60132307e-03,  1.09923342e-02,  4.60958630e-02,  2.18559019e-02,\n",
       "        6.77137077e-02, -4.34652762e-03,  5.30583933e-02,  1.35112321e-03,\n",
       "       -6.63936138e-02,  4.55066338e-02, -1.56461280e-02,  5.16570359e-03,\n",
       "        1.94751080e-02, -2.92163752e-02, -1.88845536e-03,  5.69838323e-02,\n",
       "        1.33791845e-02,  8.56858045e-02,  2.01139860e-02,  1.62415449e-02,\n",
       "        1.89683996e-02,  9.78594832e-03, -4.00190428e-02,  3.42005938e-02,\n",
       "        1.68984085e-02,  1.08895905e-03,  3.71042197e-03,  9.71127674e-03,\n",
       "        3.94511223e-02,  1.92094259e-02,  2.70247518e-04,  4.66396548e-02,\n",
       "        3.16492282e-02,  1.15521969e-02, -1.34697584e-02, -9.54676345e-02,\n",
       "       -1.72103217e-04,  3.91608886e-02, -2.40773410e-02, -3.62413935e-04,\n",
       "       -1.75536834e-02, -5.69464490e-02,  2.73143072e-02,  4.10462264e-03,\n",
       "       -1.89347584e-02, -5.20276576e-02, -7.22111166e-02,  2.23890133e-02,\n",
       "       -5.49562881e-03,  2.09646188e-02,  5.01518436e-02,  2.34716553e-02,\n",
       "        4.86291572e-02, -1.87121686e-02, -1.96092520e-02,  1.44608673e-02,\n",
       "        6.75465390e-02, -5.97780868e-02, -3.45334001e-02,  2.75188917e-03,\n",
       "        1.65893845e-02,  2.68714521e-02, -4.24444936e-02,  5.51872551e-02,\n",
       "       -1.60681512e-02,  1.13855535e-02,  3.24420892e-02,  2.08761208e-02,\n",
       "       -6.71049654e-02,  6.34299358e-03,  1.53268892e-02, -1.82182193e-02,\n",
       "        3.12162526e-02,  8.97164457e-03, -1.62434038e-02,  2.01443098e-02,\n",
       "       -2.75776759e-02, -3.62237394e-02,  1.77045725e-02,  2.29110904e-02,\n",
       "       -6.70137675e-03, -2.17790678e-02,  2.95590665e-02, -1.00426003e-01,\n",
       "        3.50981057e-02,  1.58142988e-02,  2.73714736e-02, -1.80909447e-02,\n",
       "        2.12995689e-02, -3.65291983e-02,  3.09401918e-02,  1.42322155e-02,\n",
       "       -3.27772982e-02, -4.13834341e-02,  4.35736254e-02, -1.78379640e-02,\n",
       "        2.18072459e-02, -7.68060377e-03,  1.31968604e-02, -4.87996563e-02,\n",
       "        3.22800502e-02, -4.75254729e-02, -7.01195821e-02,  3.15982252e-02,\n",
       "       -1.85177084e-02,  4.78483774e-02,  8.03120155e-03, -2.36762594e-02,\n",
       "       -3.87574430e-03,  1.95991062e-02, -2.56929118e-02, -3.17858756e-02,\n",
       "       -5.13448380e-02, -3.32738422e-02, -4.23331885e-03,  5.87797537e-02,\n",
       "        1.60854068e-02, -1.81284372e-03,  3.76607776e-02,  6.46240963e-03,\n",
       "       -2.41386238e-03,  9.25531425e-03,  8.15671682e-02, -2.40872018e-02,\n",
       "        6.09366074e-02, -3.65998000e-02,  5.51437959e-04, -7.62442574e-02,\n",
       "        1.88853927e-02, -5.41848801e-02, -1.24409320e-02, -3.02874134e-03,\n",
       "       -2.84645371e-02, -3.27820964e-02,  1.06909191e-02,  2.86076684e-02,\n",
       "       -2.82616522e-02,  2.72048265e-02, -1.45131554e-02, -4.26245853e-02,\n",
       "       -4.97104824e-02,  8.35104939e-03, -4.12337631e-02, -4.53758761e-02,\n",
       "       -1.84840262e-02, -4.26681638e-02, -1.44892903e-02, -3.45571116e-02,\n",
       "       -1.71248261e-02, -9.54259536e-04, -1.27029736e-02,  1.78461596e-02,\n",
       "       -1.13425869e-03, -2.97871027e-02, -2.51345597e-02,  2.86663673e-03,\n",
       "        2.74973791e-02,  7.88261071e-02,  6.66342527e-02,  6.83185607e-02,\n",
       "        5.66939339e-02,  1.76826809e-02,  9.66194831e-03,  6.23546774e-04,\n",
       "        3.38285677e-02, -1.52051281e-02,  2.57853828e-02,  1.39223067e-02,\n",
       "        4.28369343e-02,  2.82783732e-02, -3.10368091e-03,  1.06020786e-01,\n",
       "        4.89333943e-02, -1.59500502e-02, -3.71015929e-02,  5.15207946e-02,\n",
       "       -5.58877410e-03, -1.20306142e-01, -1.67861246e-02,  5.71281239e-02,\n",
       "       -2.33378466e-02, -1.11423908e-02,  4.25157659e-02,  5.35662062e-02,\n",
       "       -8.16660374e-02,  2.08719308e-03,  2.02885661e-02, -4.04938087e-02,\n",
       "       -5.48190735e-02,  3.37977782e-02, -1.39741478e-02, -1.46082498e-03,\n",
       "       -7.28005096e-02,  2.62683984e-02, -9.52017400e-03,  2.14599334e-02,\n",
       "       -3.90305370e-02,  1.86625212e-01,  4.67093848e-02,  7.07742618e-03,\n",
       "        6.87142881e-03,  1.58609764e-03,  4.45521772e-02,  6.89299172e-03,\n",
       "       -2.89387361e-04, -6.24476857e-02, -4.82915975e-02, -3.13311778e-02,\n",
       "       -1.05050355e-02,  1.74382273e-02,  2.57000756e-02, -3.81570921e-04,\n",
       "        1.38106234e-02, -2.24852221e-04, -1.12202400e-02,  1.52823760e-03,\n",
       "        2.38621067e-02,  2.84910551e-03, -7.12207481e-02, -6.78364607e-03,\n",
       "       -7.43987337e-02, -5.29015362e-02, -8.92865658e-03, -8.91080778e-03,\n",
       "        6.41312674e-02, -1.15381638e-02,  1.39641333e-02, -7.54306242e-02,\n",
       "        2.38005035e-02, -4.99596037e-02, -5.89863025e-02, -5.99259138e-02,\n",
       "        1.88267473e-02, -1.37386331e-02, -2.90279333e-02, -8.20515081e-02,\n",
       "       -2.58883853e-02, -1.35920965e-03, -6.56254636e-03, -1.57793909e-02,\n",
       "        3.36595736e-02, -8.00956786e-02, -9.83128231e-03, -4.20489023e-03,\n",
       "        1.01457974e-02,  7.12970123e-02,  1.69089381e-02, -1.16484258e-02,\n",
       "       -1.13118552e-02,  9.09357052e-03,  5.28526939e-02,  1.88606437e-02,\n",
       "        3.52811255e-02, -3.17981392e-02,  5.76251750e-06, -5.37999794e-02,\n",
       "        4.09359708e-02,  1.37105165e-02, -6.48834780e-02,  3.60723473e-02,\n",
       "        6.25610799e-02, -2.47308034e-02, -2.98607256e-02,  4.84835282e-02,\n",
       "        4.41425107e-02, -5.64379059e-03, -1.07925057e-01, -1.18440865e-02,\n",
       "        6.54952507e-03,  8.26425012e-03,  3.47817643e-03, -1.05621312e-02,\n",
       "        1.58114918e-02, -7.85509050e-02,  1.48303283e-03, -2.02671792e-02,\n",
       "       -5.00899553e-02, -1.10978177e-02, -2.90192701e-02,  4.55468930e-02,\n",
       "        7.56527158e-03,  4.05969508e-02, -2.69458946e-02, -3.02651543e-02,\n",
       "        1.40641006e-02, -1.89151596e-02, -2.33414173e-02,  7.37680541e-03,\n",
       "        3.11567727e-02,  1.16066646e-03,  8.33390094e-03,  1.42863877e-02,\n",
       "       -4.05206084e-02, -5.30286767e-02,  7.91117828e-03, -1.58251841e-02,\n",
       "       -3.45997070e-03,  1.78181892e-03,  1.06934495e-02,  9.89211649e-02,\n",
       "       -4.31942055e-03,  3.47062387e-02, -2.25902572e-02,  3.78608165e-05,\n",
       "       -4.37864708e-03, -1.60356797e-02, -1.93992537e-02, -3.79038267e-02,\n",
       "        1.06575887e-03,  5.28336223e-03,  1.65880825e-02,  8.18535462e-02,\n",
       "        1.26736751e-02, -3.96170728e-02,  4.29989994e-02, -3.17469053e-03,\n",
       "       -2.16116533e-02,  2.22258549e-03, -4.33450594e-04,  1.41146099e-02,\n",
       "        1.00926589e-02, -3.90878431e-02, -1.26274060e-02, -9.89209162e-04,\n",
       "       -3.38258371e-02,  5.01704067e-02, -4.27682064e-02,  3.18991356e-02,\n",
       "        1.24966176e-02,  6.63328310e-03,  3.66100259e-02,  7.09615648e-02,\n",
       "        6.17999583e-02,  1.87742058e-02,  2.23497041e-02, -4.35369089e-02,\n",
       "       -2.60500740e-02,  1.38711594e-02,  1.42055443e-02, -4.02064398e-02,\n",
       "        3.40530388e-02,  1.44084664e-02,  5.12007549e-02,  5.93588687e-02,\n",
       "        3.28508429e-02, -3.01640090e-02, -1.95984356e-02, -9.86752287e-03,\n",
       "        4.61328104e-02, -5.02044614e-03, -3.64947096e-02, -5.59983101e-33,\n",
       "        1.86992809e-02, -5.91701865e-02, -2.37545688e-02, -7.92090520e-02,\n",
       "        1.24895060e-02,  2.48156115e-02, -1.71761811e-02,  6.19083596e-03,\n",
       "       -3.82393971e-02, -1.07577182e-02, -3.01125739e-02, -2.00712867e-03,\n",
       "        1.21108806e-02,  2.67850347e-02,  2.39236131e-02,  5.13743088e-02,\n",
       "       -1.35872392e-02, -3.38623673e-02,  5.65808862e-02, -4.80935797e-02,\n",
       "        1.48703270e-02,  7.06830109e-03,  1.02272620e-02,  3.25694010e-02,\n",
       "       -8.92164558e-03, -1.81310605e-02, -3.15724779e-03, -2.29363386e-02,\n",
       "       -1.73424222e-02, -2.06046887e-02, -4.00165515e-03, -2.99121998e-02,\n",
       "        1.17950151e-02,  1.35658076e-02,  6.88173110e-03,  6.83519393e-02,\n",
       "       -1.88444220e-02, -8.81592836e-03,  6.79222355e-03, -3.40852588e-02,\n",
       "        3.39727988e-03,  3.68583831e-03,  3.56852496e-03, -5.01102433e-02,\n",
       "        2.16769800e-03, -3.78807820e-03,  1.23437978e-02, -3.39756720e-02,\n",
       "       -5.85939176e-03, -3.17987092e-02, -9.80705246e-02,  1.36795919e-02,\n",
       "       -3.94200832e-02, -2.44890880e-02,  1.92722548e-02,  2.55961716e-02,\n",
       "        3.45069766e-02, -4.11196090e-02, -3.09966896e-02,  4.06736229e-03,\n",
       "        2.16768757e-02,  4.01013605e-02,  3.80423851e-03, -1.01532508e-02,\n",
       "       -2.94481171e-03,  4.49264608e-02,  4.58906256e-02,  7.75925890e-02,\n",
       "       -6.12429343e-03,  2.64098123e-02, -1.71605498e-02,  5.27510233e-02,\n",
       "       -1.86099228e-03, -5.33518232e-02,  5.00924885e-03, -6.55320883e-02,\n",
       "       -1.04273129e-02,  4.64678649e-03,  7.68253729e-02, -7.43281841e-03,\n",
       "       -1.05254715e-02, -8.22719187e-03, -3.42024863e-03,  4.58258428e-02,\n",
       "        1.30961128e-02,  5.49041964e-02,  4.60095964e-02, -3.03929076e-02,\n",
       "       -2.66921241e-02,  1.04794381e-02,  2.22936124e-02, -1.64073962e-03,\n",
       "        6.87784003e-03,  3.32525261e-02, -2.62885895e-02, -4.36930684e-03,\n",
       "        1.20712379e-02,  1.43119209e-02, -3.12573230e-03, -1.64077934e-02,\n",
       "        6.85624927e-02, -1.35375559e-02,  1.20921275e-02,  7.15842396e-02,\n",
       "        9.55281872e-03,  9.10351798e-03, -1.06072668e-02, -2.35300437e-02,\n",
       "       -3.72521952e-02,  6.87164208e-03,  5.07023698e-03, -2.96760947e-02,\n",
       "        1.04216579e-02, -1.30651109e-02,  2.88796555e-02, -1.26592815e-02,\n",
       "        1.10673485e-02, -3.00228759e-03, -2.20637079e-02, -4.56422716e-02,\n",
       "       -2.92112809e-02,  7.70066381e-02, -6.46812841e-02,  4.77955230e-02,\n",
       "       -1.46635063e-02,  1.74260214e-02, -3.53577919e-02,  1.52902282e-03,\n",
       "       -2.22681277e-02, -2.17502825e-02, -2.23204885e-02,  1.57354698e-02,\n",
       "        2.28505826e-07,  3.79678980e-02, -3.59993316e-02,  4.04682942e-02,\n",
       "        1.92590635e-02,  3.51407286e-03, -1.67426430e-02, -4.09670435e-02,\n",
       "        2.67947689e-02, -4.48338129e-02, -2.20054723e-02,  2.31767278e-02,\n",
       "       -2.97272368e-03,  1.06751975e-02,  9.56190657e-03,  2.80196145e-02,\n",
       "       -3.38689908e-02, -2.92019639e-02, -9.01113451e-03,  1.23758027e-02,\n",
       "       -6.23026080e-02, -2.13828627e-02, -6.53066486e-02, -4.48678480e-03,\n",
       "        1.75106697e-06,  2.04154756e-02, -3.07167806e-02, -4.25293446e-02,\n",
       "        4.87097427e-02,  5.61619662e-02, -1.32202986e-03, -1.24998666e-01,\n",
       "       -4.27919440e-02, -3.77306454e-02, -2.95422040e-02,  1.23616483e-03,\n",
       "       -1.12803364e-02,  1.79072823e-02,  1.23816626e-02, -3.27149779e-02,\n",
       "        5.12275957e-02, -8.29537120e-03, -5.11430344e-03, -3.80050093e-02,\n",
       "        8.11606273e-03,  8.81840289e-02, -5.82315028e-02, -2.08895579e-02,\n",
       "       -2.41967719e-02, -3.09938360e-02,  3.70408641e-04, -4.48526116e-03,\n",
       "        1.35367122e-02,  4.52591330e-02,  6.90313056e-02,  2.47903983e-03,\n",
       "        3.30106448e-03, -9.31875315e-03, -4.61604744e-02,  6.29034638e-03,\n",
       "        8.21701661e-02, -4.18325886e-02, -6.96409792e-02, -1.33606903e-02,\n",
       "        5.57192452e-02,  3.17013264e-02,  3.15964930e-02, -2.81904638e-02,\n",
       "        1.22925738e-34,  2.90630665e-02, -2.52527148e-02,  1.81722436e-02,\n",
       "        2.13860404e-02, -2.04749452e-03,  2.19462346e-03,  5.67313423e-03,\n",
       "       -3.74493264e-02,  1.75424404e-02,  9.38936248e-02,  8.48735869e-03],\n",
       "      dtype=float32)"
      ]
     },
     "execution_count": 2,
     "metadata": {},
     "output_type": "execute_result"
    }
   ],
   "source": [
    "my_encoding = ENCODER.encode(\"The quick brown fox jumps over the lazy dog\")\n",
    "display(my_encoding.shape)\n",
    "my_encoding"
   ]
  },
  {
   "cell_type": "code",
   "execution_count": 3,
   "metadata": {},
   "outputs": [],
   "source": [
    "def distance_texts(text1, text2):\n",
    "    enc_1 = ENCODER.encode(text1)\n",
    "    enc_2 = ENCODER.encode(text2)\n",
    "    return cosine(enc_1, enc_2)"
   ]
  },
  {
   "cell_type": "code",
   "execution_count": 4,
   "metadata": {},
   "outputs": [
    {
     "data": {
      "text/plain": [
       "0.9394979514181614"
      ]
     },
     "metadata": {},
     "output_type": "display_data"
    },
    {
     "data": {
      "text/plain": [
       "0.32727307081222534"
      ]
     },
     "metadata": {},
     "output_type": "display_data"
    }
   ],
   "source": [
    "text_1 = \"Do woodchucks actually chuck wood?\"\n",
    "text_2 = \"Why should I switch to a plant-based diet?\"\n",
    "text_3 = \"No. They 'chuck' on dirt as they build burrows.\"\n",
    "\n",
    "display(distance_texts(text_2, text_3))\n",
    "display(distance_texts(text_1, text_3))"
   ]
  },
  {
   "cell_type": "code",
   "execution_count": 5,
   "metadata": {},
   "outputs": [
    {
     "name": "stderr",
     "output_type": "stream",
     "text": [
      "/Users/lp6/opt/anaconda3/envs/adml/lib/python3.9/site-packages/umap/umap_.py:2344: UserWarning: n_neighbors is larger than the dataset size; truncating to X.shape[0] - 1\n",
      "  warn(\n"
     ]
    },
    {
     "data": {
      "image/png": "[encoded data removed]",
      "text/plain": [
       "<Figure size 1000x1000 with 1 Axes>"
      ]
     },
     "metadata": {},
     "output_type": "display_data"
    }
   ],
   "source": [
    "many_texts = [\n",
    "    \"London\",\n",
    "    \"New York\",\n",
    "    \"Paris\",\n",
    "    \"Berlin\",\n",
    "    \"Tokyo\",\n",
    "    \"Moscow\",\n",
    "    \"Beijing\",\n",
    "    \"C++\",\n",
    "    \"Python\",\n",
    "    \"Java\",\n",
    "    \"Perl\",\n",
    "    \"Ruby\",\n",
    "    \"Scala\",\n",
    "    \"Haskell\"\n",
    "]\n",
    "\n",
    "many_vectors = ENCODER.encode(many_texts)\n",
    "many_2d  = UMAP().fit_transform(many_vectors)\n",
    "\n",
    "plt.figure(figsize=(10,10), dpi=100)\n",
    "plt.scatter(many_2d[:,0], many_2d[:,1], s=1, edgecolors='none')\n",
    "for i, txt in enumerate(many_texts):\n",
    "    plt.annotate(txt, (many_2d[i,0], many_2d[i,1]), fontsize=20)\n",
    "\n",
    "plt.xticks([])\n",
    "plt.yticks([])\n",
    "\n",
    "plt.gca().spines['top'].set_visible(False)\n",
    "plt.gca().spines['right'].set_visible(False)\n",
    "plt.gca().spines['left'].set_visible(False)\n",
    "plt.gca().spines['bottom'].set_visible(False)\n",
    "plt.savefig(\"many.svg\", format=\"svg\")"
   ]
  },
  {
   "cell_type": "code",
   "execution_count": null,
   "metadata": {},
   "outputs": [],
   "source": []
  }
 ],
 "metadata": {
  "kernelspec": {
   "display_name": "base",
   "language": "python",
   "name": "python3"
  },
  "language_info": {
   "codemirror_mode": {
    "name": "ipython",
    "version": 3
   },
   "file_extension": ".py",
   "mimetype": "text/x-python",
   "name": "python",
   "nbconvert_exporter": "python",
   "pygments_lexer": "ipython3",
   "version": "3.9.0"
  },
  "orig_nbformat": 4
 },
 "nbformat": 4,
 "nbformat_minor": 2
}
